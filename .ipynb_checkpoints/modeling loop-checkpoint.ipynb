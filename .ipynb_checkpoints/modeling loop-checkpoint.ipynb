{
 "cells": [
  {
   "cell_type": "code",
   "execution_count": 19,
   "metadata": {
    "collapsed": true
   },
   "outputs": [],
   "source": [
    "model_variations = []"
   ]
  },
  {
   "cell_type": "code",
   "execution_count": 20,
   "metadata": {},
   "outputs": [],
   "source": [
    "#Optimizers\n",
    "optimizer = ['SGD',\n",
    "    'RMSprop',\n",
    "    'Adagrad',\n",
    "    'Adadelta',\n",
    "    'Adam',\n",
    "    'Adamax',\n",
    "    'Nadam']"
   ]
  },
  {
   "cell_type": "code",
   "execution_count": 21,
   "metadata": {
    "collapsed": true
   },
   "outputs": [],
   "source": [
    "#Epochs\n",
    "epochs = [12, 24, 64]"
   ]
  },
  {
   "cell_type": "code",
   "execution_count": 22,
   "metadata": {
    "collapsed": true
   },
   "outputs": [],
   "source": [
    "#Batch size\n",
    "batchsize = [32, 64, 128]"
   ]
  },
  {
   "cell_type": "code",
   "execution_count": 50,
   "metadata": {
    "collapsed": true
   },
   "outputs": [],
   "source": [
    "model_variations = []"
   ]
  },
  {
   "cell_type": "code",
   "execution_count": 51,
   "metadata": {},
   "outputs": [],
   "source": [
    "def run_type():\n",
    "    for o in optimizer:\n",
    "        for e in epochs:\n",
    "            for b in batchsize:\n",
    "                model_variations.append(o + \"  \" + str(e) + \"  \" + str(b))\n",
    "               "
   ]
  },
  {
   "cell_type": "code",
   "execution_count": 52,
   "metadata": {},
   "outputs": [],
   "source": [
    "run_type()"
   ]
  },
  {
   "cell_type": "code",
   "execution_count": 53,
   "metadata": {},
   "outputs": [
    {
     "name": "stdout",
     "output_type": "stream",
     "text": [
      "['SGD  12  32', 'SGD  12  64', 'SGD  12  128', 'SGD  24  32', 'SGD  24  64', 'SGD  24  128', 'SGD  64  32', 'SGD  64  64', 'SGD  64  128', 'RMSprop  12  32', 'RMSprop  12  64', 'RMSprop  12  128', 'RMSprop  24  32', 'RMSprop  24  64', 'RMSprop  24  128', 'RMSprop  64  32', 'RMSprop  64  64', 'RMSprop  64  128', 'Adagrad  12  32', 'Adagrad  12  64', 'Adagrad  12  128', 'Adagrad  24  32', 'Adagrad  24  64', 'Adagrad  24  128', 'Adagrad  64  32', 'Adagrad  64  64', 'Adagrad  64  128', 'Adadelta  12  32', 'Adadelta  12  64', 'Adadelta  12  128', 'Adadelta  24  32', 'Adadelta  24  64', 'Adadelta  24  128', 'Adadelta  64  32', 'Adadelta  64  64', 'Adadelta  64  128', 'Adam  12  32', 'Adam  12  64', 'Adam  12  128', 'Adam  24  32', 'Adam  24  64', 'Adam  24  128', 'Adam  64  32', 'Adam  64  64', 'Adam  64  128', 'Adamax  12  32', 'Adamax  12  64', 'Adamax  12  128', 'Adamax  24  32', 'Adamax  24  64', 'Adamax  24  128', 'Adamax  64  32', 'Adamax  64  64', 'Adamax  64  128', 'Nadam  12  32', 'Nadam  12  64', 'Nadam  12  128', 'Nadam  24  32', 'Nadam  24  64', 'Nadam  24  128', 'Nadam  64  32', 'Nadam  64  64', 'Nadam  64  128']\n"
     ]
    }
   ],
   "source": [
    "print(model_variations)"
   ]
  },
  {
   "cell_type": "code",
   "execution_count": null,
   "metadata": {
    "collapsed": true
   },
   "outputs": [],
   "source": []
  }
 ],
 "metadata": {
  "kernelspec": {
   "display_name": "Python 3",
   "language": "python",
   "name": "python3"
  },
  "language_info": {
   "codemirror_mode": {
    "name": "ipython",
    "version": 3
   },
   "file_extension": ".py",
   "mimetype": "text/x-python",
   "name": "python",
   "nbconvert_exporter": "python",
   "pygments_lexer": "ipython3",
   "version": "3.5.4"
  }
 },
 "nbformat": 4,
 "nbformat_minor": 2
}
